{
 "cells": [
  {
   "cell_type": "code",
   "execution_count": 1,
   "id": "078f632c-38b8-4d33-8518-fbf0fa723a72",
   "metadata": {},
   "outputs": [
    {
     "name": "stdout",
     "output_type": "stream",
     "text": [
      "hello world\n"
     ]
    }
   ],
   "source": [
    "print('hello world')\n"
   ]
  },
  {
   "cell_type": "code",
   "execution_count": 4,
   "id": "963ba819-bfa1-41b3-b6be-ffcddcf58f12",
   "metadata": {},
   "outputs": [],
   "source": [
    "import pandas\n"
   ]
  },
  {
   "cell_type": "code",
   "execution_count": 5,
   "id": "cc875b23-8989-4c34-a9df-5ff0c6a5c25b",
   "metadata": {},
   "outputs": [],
   "source": [
    "import os"
   ]
  },
  {
   "cell_type": "code",
   "execution_count": 6,
   "id": "3feb9547-beca-4989-92a3-858f6a365de0",
   "metadata": {},
   "outputs": [
    {
     "data": {
      "text/plain": [
       "'/home/mbeng'"
      ]
     },
     "execution_count": 6,
     "metadata": {},
     "output_type": "execute_result"
    }
   ],
   "source": [
    "os.getcwd()\n"
   ]
  },
  {
   "cell_type": "code",
   "execution_count": 7,
   "id": "3b3e4e71-eaa3-43cb-95ac-e722431cb635",
   "metadata": {},
   "outputs": [
    {
     "name": "stderr",
     "output_type": "stream",
     "text": [
      "Matplotlib is building the font cache; this may take a moment.\n",
      "/home/mbeng/.local/lib/python3.10/site-packages/sarracen/kernels/cubic_spline.py:15: NumbaDeprecationWarning: \u001b[1mThe 'nopython' keyword argument was not supplied to the 'numba.jit' decorator. The implicit default value for this argument is currently False, but it will be changed to True in Numba 0.59.0. See https://numba.readthedocs.io/en/stable/reference/deprecation.html#deprecation-of-object-mode-fall-back-behaviour-when-using-jit for details.\u001b[0m\n",
      "  @jit(fastmath=True)\n",
      "/home/mbeng/.local/lib/python3.10/site-packages/sarracen/kernels/quartic_spline.py:15: NumbaDeprecationWarning: \u001b[1mThe 'nopython' keyword argument was not supplied to the 'numba.jit' decorator. The implicit default value for this argument is currently False, but it will be changed to True in Numba 0.59.0. See https://numba.readthedocs.io/en/stable/reference/deprecation.html#deprecation-of-object-mode-fall-back-behaviour-when-using-jit for details.\u001b[0m\n",
      "  @jit(fastmath=True)\n",
      "/home/mbeng/.local/lib/python3.10/site-packages/sarracen/kernels/quintic_spline.py:15: NumbaDeprecationWarning: \u001b[1mThe 'nopython' keyword argument was not supplied to the 'numba.jit' decorator. The implicit default value for this argument is currently False, but it will be changed to True in Numba 0.59.0. See https://numba.readthedocs.io/en/stable/reference/deprecation.html#deprecation-of-object-mode-fall-back-behaviour-when-using-jit for details.\u001b[0m\n",
      "  @jit(fastmath=True)\n"
     ]
    }
   ],
   "source": [
    "import sarracen"
   ]
  },
  {
   "cell_type": "code",
   "execution_count": 8,
   "id": "69757ebc-2513-4512-9ac0-64343c462951",
   "metadata": {},
   "outputs": [
    {
     "ename": "FileNotFoundError",
     "evalue": "[Errno 2] No such file or directory: 'dumpfile'",
     "output_type": "error",
     "traceback": [
      "\u001b[0;31m---------------------------------------------------------------------------\u001b[0m",
      "\u001b[0;31mFileNotFoundError\u001b[0m                         Traceback (most recent call last)",
      "Cell \u001b[0;32mIn[8], line 1\u001b[0m\n\u001b[0;32m----> 1\u001b[0m sdf \u001b[38;5;241m=\u001b[39m \u001b[43msarracen\u001b[49m\u001b[38;5;241;43m.\u001b[39;49m\u001b[43mread_phantom\u001b[49m\u001b[43m(\u001b[49m\u001b[38;5;124;43m'\u001b[39;49m\u001b[38;5;124;43mdumpfile\u001b[39;49m\u001b[38;5;124;43m'\u001b[39;49m\u001b[43m)\u001b[49m\n",
      "File \u001b[0;32m~/.local/lib/python3.10/site-packages/sarracen/readers/read_phantom.py:231\u001b[0m, in \u001b[0;36mread_phantom\u001b[0;34m(filename, separate_types, ignore_inactive)\u001b[0m\n\u001b[1;32m    189\u001b[0m \u001b[38;5;28;01mdef\u001b[39;00m \u001b[38;5;21mread_phantom\u001b[39m(filename: \u001b[38;5;28mstr\u001b[39m, separate_types: \u001b[38;5;28mstr\u001b[39m \u001b[38;5;241m=\u001b[39m \u001b[38;5;124m'\u001b[39m\u001b[38;5;124msinks\u001b[39m\u001b[38;5;124m'\u001b[39m, ignore_inactive: \u001b[38;5;28mbool\u001b[39m \u001b[38;5;241m=\u001b[39m \u001b[38;5;28;01mTrue\u001b[39;00m):\n\u001b[1;32m    190\u001b[0m \u001b[38;5;250m    \u001b[39m\u001b[38;5;124;03m\"\"\"\u001b[39;00m\n\u001b[1;32m    191\u001b[0m \u001b[38;5;124;03m    Read data from a Phantom dump file.\u001b[39;00m\n\u001b[1;32m    192\u001b[0m \n\u001b[0;32m   (...)\u001b[0m\n\u001b[1;32m    229\u001b[0m \u001b[38;5;124;03m    >>> sdf_gas, sdf_dust, sdf_sinks = sarracen.read_phantom('multiple_types_00000', separate_types='all')\u001b[39;00m\n\u001b[1;32m    230\u001b[0m \u001b[38;5;124;03m    \"\"\"\u001b[39;00m\n\u001b[0;32m--> 231\u001b[0m     \u001b[38;5;28;01mwith\u001b[39;00m \u001b[38;5;28;43mopen\u001b[39;49m\u001b[43m(\u001b[49m\u001b[43mfilename\u001b[49m\u001b[43m,\u001b[49m\u001b[43m \u001b[49m\u001b[38;5;124;43m'\u001b[39;49m\u001b[38;5;124;43mrb\u001b[39;49m\u001b[38;5;124;43m'\u001b[39;49m\u001b[43m)\u001b[49m \u001b[38;5;28;01mas\u001b[39;00m fp:\n\u001b[1;32m    232\u001b[0m         def_int_dtype, def_real_dtype \u001b[38;5;241m=\u001b[39m _read_capture_pattern(fp)\n\u001b[1;32m    233\u001b[0m         file_identifier \u001b[38;5;241m=\u001b[39m _read_file_identifier(fp)\n",
      "\u001b[0;31mFileNotFoundError\u001b[0m: [Errno 2] No such file or directory: 'dumpfile'"
     ]
    }
   ],
   "source": [
    "sdf = sarracen.read_phantom('dumpfile')"
   ]
  },
  {
   "cell_type": "code",
   "execution_count": 9,
   "id": "d63b3028-5bef-4f6d-8436-620ae6908dc6",
   "metadata": {},
   "outputs": [
    {
     "ename": "FileNotFoundError",
     "evalue": "[Errno 2] No such file or directory: 'sg_00030'",
     "output_type": "error",
     "traceback": [
      "\u001b[0;31m---------------------------------------------------------------------------\u001b[0m",
      "\u001b[0;31mFileNotFoundError\u001b[0m                         Traceback (most recent call last)",
      "Cell \u001b[0;32mIn[9], line 1\u001b[0m\n\u001b[0;32m----> 1\u001b[0m sdf \u001b[38;5;241m=\u001b[39m \u001b[43msarracen\u001b[49m\u001b[38;5;241;43m.\u001b[39;49m\u001b[43mread_phantom\u001b[49m\u001b[43m(\u001b[49m\u001b[38;5;124;43m'\u001b[39;49m\u001b[38;5;124;43msg_00030\u001b[39;49m\u001b[38;5;124;43m'\u001b[39;49m\u001b[43m)\u001b[49m\n",
      "File \u001b[0;32m~/.local/lib/python3.10/site-packages/sarracen/readers/read_phantom.py:231\u001b[0m, in \u001b[0;36mread_phantom\u001b[0;34m(filename, separate_types, ignore_inactive)\u001b[0m\n\u001b[1;32m    189\u001b[0m \u001b[38;5;28;01mdef\u001b[39;00m \u001b[38;5;21mread_phantom\u001b[39m(filename: \u001b[38;5;28mstr\u001b[39m, separate_types: \u001b[38;5;28mstr\u001b[39m \u001b[38;5;241m=\u001b[39m \u001b[38;5;124m'\u001b[39m\u001b[38;5;124msinks\u001b[39m\u001b[38;5;124m'\u001b[39m, ignore_inactive: \u001b[38;5;28mbool\u001b[39m \u001b[38;5;241m=\u001b[39m \u001b[38;5;28;01mTrue\u001b[39;00m):\n\u001b[1;32m    190\u001b[0m \u001b[38;5;250m    \u001b[39m\u001b[38;5;124;03m\"\"\"\u001b[39;00m\n\u001b[1;32m    191\u001b[0m \u001b[38;5;124;03m    Read data from a Phantom dump file.\u001b[39;00m\n\u001b[1;32m    192\u001b[0m \n\u001b[0;32m   (...)\u001b[0m\n\u001b[1;32m    229\u001b[0m \u001b[38;5;124;03m    >>> sdf_gas, sdf_dust, sdf_sinks = sarracen.read_phantom('multiple_types_00000', separate_types='all')\u001b[39;00m\n\u001b[1;32m    230\u001b[0m \u001b[38;5;124;03m    \"\"\"\u001b[39;00m\n\u001b[0;32m--> 231\u001b[0m     \u001b[38;5;28;01mwith\u001b[39;00m \u001b[38;5;28;43mopen\u001b[39;49m\u001b[43m(\u001b[49m\u001b[43mfilename\u001b[49m\u001b[43m,\u001b[49m\u001b[43m \u001b[49m\u001b[38;5;124;43m'\u001b[39;49m\u001b[38;5;124;43mrb\u001b[39;49m\u001b[38;5;124;43m'\u001b[39;49m\u001b[43m)\u001b[49m \u001b[38;5;28;01mas\u001b[39;00m fp:\n\u001b[1;32m    232\u001b[0m         def_int_dtype, def_real_dtype \u001b[38;5;241m=\u001b[39m _read_capture_pattern(fp)\n\u001b[1;32m    233\u001b[0m         file_identifier \u001b[38;5;241m=\u001b[39m _read_file_identifier(fp)\n",
      "\u001b[0;31mFileNotFoundError\u001b[0m: [Errno 2] No such file or directory: 'sg_00030'"
     ]
    }
   ],
   "source": [
    "sdf = sarracen.read_phantom('sg_00030')\n"
   ]
  },
  {
   "cell_type": "code",
   "execution_count": 10,
   "id": "8dc66e80-9999-44b0-afc6-f555ba9ead3e",
   "metadata": {},
   "outputs": [],
   "source": [
    "import os"
   ]
  },
  {
   "cell_type": "code",
   "execution_count": 11,
   "id": "4050a4a8-e4d4-4770-87fa-e70445c712c7",
   "metadata": {},
   "outputs": [
    {
     "data": {
      "text/plain": [
       "'/home/mbeng'"
      ]
     },
     "execution_count": 11,
     "metadata": {},
     "output_type": "execute_result"
    }
   ],
   "source": [
    "os.getcwd()\n"
   ]
  },
  {
   "cell_type": "code",
   "execution_count": 12,
   "id": "210c0d36-e4de-4ab0-b9ed-5dbc7985e541",
   "metadata": {},
   "outputs": [],
   "source": [
    "sdf = sarracen.read_phantom('/home/mbeng/Documents/Dr Cass/sg_00030')"
   ]
  },
  {
   "cell_type": "code",
   "execution_count": 13,
   "id": "cb21667f-cc70-449d-866a-046de18948ce",
   "metadata": {},
   "outputs": [
    {
     "data": {
      "text/plain": [
       "[                 x           y          z        vx        vy        vz  \\\n",
       " 0       -60.316057   48.229875  -4.115879 -0.066394 -0.070153  0.001042   \n",
       " 1        51.264525 -260.824368  12.343371  0.056696  0.008778 -0.000054   \n",
       " 2       101.386561  233.909648  -7.905423 -0.051703  0.022003  0.001461   \n",
       " 3      -126.345907 -143.339815   2.489583  0.046672 -0.047468 -0.000018   \n",
       " 4        -7.137648  -31.047451  -0.601673  0.138576 -0.016837 -0.000867   \n",
       " ...            ...         ...        ...       ...       ...       ...   \n",
       " 999995   14.271376  -26.480699   1.349016  0.119078  0.080854 -0.000559   \n",
       " 999996 -202.792538 -211.001038 -10.279900  0.038608 -0.040551 -0.000348   \n",
       " 999997   48.921730   18.460121   2.519935 -0.044888  0.098902  0.001470   \n",
       " 999998   72.619452 -198.484980 -15.618855  0.055140  0.027191  0.001153   \n",
       " 999999 -124.980371   77.111568 -19.296943 -0.033718 -0.068990 -0.004505   \n",
       " \n",
       "                u      dustfrac        tstop       deltavx       deltavy  \\\n",
       " 0       0.000104  3.811599e-06    34.050074 -6.694674e-05 -1.686644e-04   \n",
       " 1       0.000057  2.266929e-06   624.945098 -5.254836e-05  6.398321e-04   \n",
       " 2       0.000053  6.357597e-04   182.395016 -1.073607e-04 -1.792752e-04   \n",
       " 3       0.000043  1.086522e-06   152.904349  6.763971e-05 -2.560823e-04   \n",
       " 4       0.000097  5.160400e-07     0.537107 -2.304627e-08 -2.658688e-07   \n",
       " ...          ...           ...          ...           ...           ...   \n",
       " 999995  0.000086  3.178976e-04     3.785232 -1.558957e-05 -5.863073e-05   \n",
       " 999996  0.000042  2.022040e-07  1176.230630  5.675412e-04  1.612042e-04   \n",
       " 999997  0.000073  6.539356e-15    11.193916 -5.700686e-05 -3.082204e-05   \n",
       " 999998  0.000069  2.024564e-13   283.212592  1.572137e-04  1.708028e-04   \n",
       " 999999  0.000080  1.167363e-16   335.816800 -2.172168e-04  6.387273e-04   \n",
       " \n",
       "          deltavz         h     alpha      divv         poten         dt  \n",
       " 0       0.000639  1.452280  0.109370 -0.000386 -4.219599e-10   1.646441  \n",
       " 1      -0.000792  3.466527  0.172712  0.000183 -1.950182e-10  13.171528  \n",
       " 2       0.000457  2.269608  0.109899 -0.000027 -2.100258e-10   3.292882  \n",
       " 3      -0.000082  2.067045  0.130868 -0.000096 -2.608576e-10   1.646441  \n",
       " 4       0.000036  0.359997  0.123497  0.001601 -5.689437e-10   0.823220  \n",
       " ...          ...       ...       ...       ...           ...        ...  \n",
       " 999995 -0.000194  0.676407  0.128626  0.000742 -5.407655e-10   1.646441  \n",
       " 999996  0.000321  4.057427  0.300073  0.000062 -1.702328e-10   1.646441  \n",
       " 999997 -0.000248  0.943584  0.287048  0.000237 -4.703286e-10   3.292882  \n",
       " 999998  0.001304  2.746163  0.107430 -0.000070 -2.435118e-10   6.585764  \n",
       " 999999  0.002315  2.981620  0.427651  0.000583 -2.915044e-10   1.646441  \n",
       " \n",
       " [974832 rows x 17 columns],\n",
       "           x         y         z         m    h  hsoft  maccreted  \\\n",
       " 0 -3.228391 -1.104846 -0.043024  0.607626  1.0    1.0   0.007626   \n",
       " \n",
       "           spinx     spiny     spinz  tlast        vx       vy        vz  \n",
       " 0 -7.273580e-07 -0.000004  0.001649    0.0 -0.000603  0.00031 -0.000001  ]"
      ]
     },
     "execution_count": 13,
     "metadata": {},
     "output_type": "execute_result"
    }
   ],
   "source": [
    "sdf"
   ]
  },
  {
   "cell_type": "code",
   "execution_count": 14,
   "id": "8511cc41-5f5d-4eaa-983a-2c4484545553",
   "metadata": {},
   "outputs": [
    {
     "ename": "AttributeError",
     "evalue": "'list' object has no attribute 'render'",
     "output_type": "error",
     "traceback": [
      "\u001b[0;31m---------------------------------------------------------------------------\u001b[0m",
      "\u001b[0;31mAttributeError\u001b[0m                            Traceback (most recent call last)",
      "Cell \u001b[0;32mIn[14], line 1\u001b[0m\n\u001b[0;32m----> 1\u001b[0m \u001b[43msdf\u001b[49m\u001b[38;5;241;43m.\u001b[39;49m\u001b[43mrender\u001b[49m()\n",
      "\u001b[0;31mAttributeError\u001b[0m: 'list' object has no attribute 'render'"
     ]
    }
   ],
   "source": [
    "sdf.render()\n"
   ]
  },
  {
   "cell_type": "code",
   "execution_count": 15,
   "id": "d81675c9-7b1d-4dac-b325-0c8a3b0c9547",
   "metadata": {},
   "outputs": [
    {
     "ename": "AttributeError",
     "evalue": "'list' object has no attribute 'describe'",
     "output_type": "error",
     "traceback": [
      "\u001b[0;31m---------------------------------------------------------------------------\u001b[0m",
      "\u001b[0;31mAttributeError\u001b[0m                            Traceback (most recent call last)",
      "Cell \u001b[0;32mIn[15], line 1\u001b[0m\n\u001b[0;32m----> 1\u001b[0m \u001b[43msdf\u001b[49m\u001b[38;5;241;43m.\u001b[39;49m\u001b[43mdescribe\u001b[49m()\n",
      "\u001b[0;31mAttributeError\u001b[0m: 'list' object has no attribute 'describe'"
     ]
    }
   ],
   "source": [
    "sdf.describe()"
   ]
  },
  {
   "cell_type": "code",
   "execution_count": 16,
   "id": "13aab655-7e61-4fad-b342-5625bcc95f2e",
   "metadata": {},
   "outputs": [
    {
     "name": "stdout",
     "output_type": "stream",
     "text": [
      "['SarracenDataFrame', '__builtins__', '__cached__', '__doc__', '__file__', '__loader__', '__name__', '__package__', '__path__', '__spec__', '__version__', 'arrowplot', 'interpolate', 'interpolate_2d', 'interpolate_2d_line', 'interpolate_3d_cross', 'interpolate_3d_proj', 'kernels', 'read_csv', 'read_marisa', 'read_phantom', 'readers', 'render', 'sarracen_dataframe', 'streamlines']\n"
     ]
    }
   ],
   "source": [
    "print(dir(sarracen))\n"
   ]
  },
  {
   "cell_type": "code",
   "execution_count": 17,
   "id": "a4d9955b-eb44-484f-9d4f-85bcf40edc38",
   "metadata": {},
   "outputs": [
    {
     "data": {
      "text/plain": [
       "\u001b[0;31mSignature:\u001b[0m\n",
       "\u001b[0msarracen\u001b[0m\u001b[0;34m.\u001b[0m\u001b[0mread_phantom\u001b[0m\u001b[0;34m(\u001b[0m\u001b[0;34m\u001b[0m\n",
       "\u001b[0;34m\u001b[0m    \u001b[0mfilename\u001b[0m\u001b[0;34m:\u001b[0m \u001b[0mstr\u001b[0m\u001b[0;34m,\u001b[0m\u001b[0;34m\u001b[0m\n",
       "\u001b[0;34m\u001b[0m    \u001b[0mseparate_types\u001b[0m\u001b[0;34m:\u001b[0m \u001b[0mstr\u001b[0m \u001b[0;34m=\u001b[0m \u001b[0;34m'sinks'\u001b[0m\u001b[0;34m,\u001b[0m\u001b[0;34m\u001b[0m\n",
       "\u001b[0;34m\u001b[0m    \u001b[0mignore_inactive\u001b[0m\u001b[0;34m:\u001b[0m \u001b[0mbool\u001b[0m \u001b[0;34m=\u001b[0m \u001b[0;32mTrue\u001b[0m\u001b[0;34m,\u001b[0m\u001b[0;34m\u001b[0m\n",
       "\u001b[0;34m\u001b[0m\u001b[0;34m)\u001b[0m\u001b[0;34m\u001b[0m\u001b[0;34m\u001b[0m\u001b[0m\n",
       "\u001b[0;31mDocstring:\u001b[0m\n",
       "Read data from a Phantom dump file.\n",
       "\n",
       "This reads the native binary format of Phantom dump files, which in turn were derived from the binary file format\n",
       "used by sphNG.\n",
       "\n",
       "Global values stored in the dump file (time step, initial momentum, hfact, Courant factor, etc) are stored within the\n",
       "data frame in the dictionary ``params``.\n",
       "\n",
       "Parameters\n",
       "----------\n",
       "filename : str\n",
       "    Name of the file to be loaded.\n",
       "separate_types : {None, 'sinks', 'all'}, default='sinks'\n",
       "    Whether to separate different particle types into several dataframes. ``None`` returns all particle types in one\n",
       "    data frame. '`sinks`' separates sink particles into a second dataframe, and '`all`' returns all particle types in\n",
       "    different dataframes.\n",
       "ignore_inactive : {True, False}, default=True\n",
       "    If True, particles with negative smoothing length will not be read on import. These are\n",
       "    typically particles that have been accreted onto a sink particle or are otherwise inactive.\n",
       "\n",
       "Returns\n",
       "-------\n",
       "SarracenDataFrame or list of SarracenDataFrame\n",
       "\n",
       "Notes\n",
       "-----\n",
       "See the `Phantom documentation <https://phantomsph.readthedocs.io/en/latest/dumpfile.html>`_ for a full description\n",
       "of the Phantom binary file format.\n",
       "\n",
       "Examples\n",
       "--------\n",
       "By default, SPH particles are grouped into one data frame and sink particles into a second data frame.\n",
       "\n",
       ">>> sdf, sdf_sinks = sarracen.read_phantom('dumpfile_00000')\n",
       "\n",
       "A dump file containing multiple particle types, say gas + dust + sinks, can separated into their own data frames\n",
       "by specifying ``separate_types='all'``.\n",
       "\n",
       ">>> sdf_gas, sdf_dust, sdf_sinks = sarracen.read_phantom('multiple_types_00000', separate_types='all')\n",
       "\u001b[0;31mFile:\u001b[0m      ~/.local/lib/python3.10/site-packages/sarracen/readers/read_phantom.py\n",
       "\u001b[0;31mType:\u001b[0m      function"
      ]
     },
     "metadata": {},
     "output_type": "display_data"
    }
   ],
   "source": [
    "sarracen.read_phantom?\n"
   ]
  },
  {
   "cell_type": "code",
   "execution_count": 18,
   "id": "9952f1f4-b3ea-43d5-9f31-6cf48ed2892a",
   "metadata": {},
   "outputs": [
    {
     "ename": "FileNotFoundError",
     "evalue": "[Errno 2] No such file or directory: '/home/mbeng/Documents/Dr Cass/sg_00030'",
     "output_type": "error",
     "traceback": [
      "\u001b[0;31m---------------------------------------------------------------------------\u001b[0m",
      "\u001b[0;31mFileNotFoundError\u001b[0m                         Traceback (most recent call last)",
      "Cell \u001b[0;32mIn[18], line 1\u001b[0m\n\u001b[0;32m----> 1\u001b[0m sdf \u001b[38;5;241m=\u001b[39m \u001b[43msarracen\u001b[49m\u001b[38;5;241;43m.\u001b[39;49m\u001b[43mread_phantom\u001b[49m\u001b[43m(\u001b[49m\u001b[38;5;124;43m'\u001b[39;49m\u001b[38;5;124;43m/home/mbeng/Documents/Dr Cass/sg_00030\u001b[39;49m\u001b[38;5;124;43m'\u001b[39;49m\u001b[43m,\u001b[49m\u001b[43mseparate_types\u001b[49m\u001b[38;5;241;43m=\u001b[39;49m\u001b[38;5;124;43m'\u001b[39;49m\u001b[38;5;124;43mall\u001b[39;49m\u001b[38;5;124;43m'\u001b[39;49m\u001b[43m)\u001b[49m\n",
      "File \u001b[0;32m~/.local/lib/python3.10/site-packages/sarracen/readers/read_phantom.py:231\u001b[0m, in \u001b[0;36mread_phantom\u001b[0;34m(filename, separate_types, ignore_inactive)\u001b[0m\n\u001b[1;32m    189\u001b[0m \u001b[38;5;28;01mdef\u001b[39;00m \u001b[38;5;21mread_phantom\u001b[39m(filename: \u001b[38;5;28mstr\u001b[39m, separate_types: \u001b[38;5;28mstr\u001b[39m \u001b[38;5;241m=\u001b[39m \u001b[38;5;124m'\u001b[39m\u001b[38;5;124msinks\u001b[39m\u001b[38;5;124m'\u001b[39m, ignore_inactive: \u001b[38;5;28mbool\u001b[39m \u001b[38;5;241m=\u001b[39m \u001b[38;5;28;01mTrue\u001b[39;00m):\n\u001b[1;32m    190\u001b[0m \u001b[38;5;250m    \u001b[39m\u001b[38;5;124;03m\"\"\"\u001b[39;00m\n\u001b[1;32m    191\u001b[0m \u001b[38;5;124;03m    Read data from a Phantom dump file.\u001b[39;00m\n\u001b[1;32m    192\u001b[0m \n\u001b[0;32m   (...)\u001b[0m\n\u001b[1;32m    229\u001b[0m \u001b[38;5;124;03m    >>> sdf_gas, sdf_dust, sdf_sinks = sarracen.read_phantom('multiple_types_00000', separate_types='all')\u001b[39;00m\n\u001b[1;32m    230\u001b[0m \u001b[38;5;124;03m    \"\"\"\u001b[39;00m\n\u001b[0;32m--> 231\u001b[0m     \u001b[38;5;28;01mwith\u001b[39;00m \u001b[38;5;28;43mopen\u001b[39;49m\u001b[43m(\u001b[49m\u001b[43mfilename\u001b[49m\u001b[43m,\u001b[49m\u001b[43m \u001b[49m\u001b[38;5;124;43m'\u001b[39;49m\u001b[38;5;124;43mrb\u001b[39;49m\u001b[38;5;124;43m'\u001b[39;49m\u001b[43m)\u001b[49m \u001b[38;5;28;01mas\u001b[39;00m fp:\n\u001b[1;32m    232\u001b[0m         def_int_dtype, def_real_dtype \u001b[38;5;241m=\u001b[39m _read_capture_pattern(fp)\n\u001b[1;32m    233\u001b[0m         file_identifier \u001b[38;5;241m=\u001b[39m _read_file_identifier(fp)\n",
      "\u001b[0;31mFileNotFoundError\u001b[0m: [Errno 2] No such file or directory: '/home/mbeng/Documents/Dr Cass/sg_00030'"
     ]
    }
   ],
   "source": [
    "sdf = sarracen.read_phantom('/home/mbeng/Documents/Dr Cass/sg_00030',separate_types='all')"
   ]
  },
  {
   "cell_type": "code",
   "execution_count": 19,
   "id": "07d3d503-e2a2-4c1d-a73d-71ca63bc86e9",
   "metadata": {},
   "outputs": [],
   "source": [
    "sdf = sarracen.read_phantom('/home/mbeng/Documents/DrCass/sg_00030',separate_types='all')"
   ]
  },
  {
   "cell_type": "code",
   "execution_count": 20,
   "id": "68b2d248-d8ea-4954-8d03-06a65e538158",
   "metadata": {},
   "outputs": [
    {
     "data": {
      "text/plain": [
       "[                 x           y          z        vx        vy        vz  \\\n",
       " 0       -60.316057   48.229875  -4.115879 -0.066394 -0.070153  0.001042   \n",
       " 1        51.264525 -260.824368  12.343371  0.056696  0.008778 -0.000054   \n",
       " 2       101.386561  233.909648  -7.905423 -0.051703  0.022003  0.001461   \n",
       " 3      -126.345907 -143.339815   2.489583  0.046672 -0.047468 -0.000018   \n",
       " 4        -7.137648  -31.047451  -0.601673  0.138576 -0.016837 -0.000867   \n",
       " ...            ...         ...        ...       ...       ...       ...   \n",
       " 999995   14.271376  -26.480699   1.349016  0.119078  0.080854 -0.000559   \n",
       " 999996 -202.792538 -211.001038 -10.279900  0.038608 -0.040551 -0.000348   \n",
       " 999997   48.921730   18.460121   2.519935 -0.044888  0.098902  0.001470   \n",
       " 999998   72.619452 -198.484980 -15.618855  0.055140  0.027191  0.001153   \n",
       " 999999 -124.980371   77.111568 -19.296943 -0.033718 -0.068990 -0.004505   \n",
       " \n",
       "                u      dustfrac        tstop       deltavx       deltavy  \\\n",
       " 0       0.000104  3.811599e-06    34.050074 -6.694674e-05 -1.686644e-04   \n",
       " 1       0.000057  2.266929e-06   624.945098 -5.254836e-05  6.398321e-04   \n",
       " 2       0.000053  6.357597e-04   182.395016 -1.073607e-04 -1.792752e-04   \n",
       " 3       0.000043  1.086522e-06   152.904349  6.763971e-05 -2.560823e-04   \n",
       " 4       0.000097  5.160400e-07     0.537107 -2.304627e-08 -2.658688e-07   \n",
       " ...          ...           ...          ...           ...           ...   \n",
       " 999995  0.000086  3.178976e-04     3.785232 -1.558957e-05 -5.863073e-05   \n",
       " 999996  0.000042  2.022040e-07  1176.230630  5.675412e-04  1.612042e-04   \n",
       " 999997  0.000073  6.539356e-15    11.193916 -5.700686e-05 -3.082204e-05   \n",
       " 999998  0.000069  2.024564e-13   283.212592  1.572137e-04  1.708028e-04   \n",
       " 999999  0.000080  1.167363e-16   335.816800 -2.172168e-04  6.387273e-04   \n",
       " \n",
       "          deltavz         h     alpha      divv         poten         dt  \n",
       " 0       0.000639  1.452280  0.109370 -0.000386 -4.219599e-10   1.646441  \n",
       " 1      -0.000792  3.466527  0.172712  0.000183 -1.950182e-10  13.171528  \n",
       " 2       0.000457  2.269608  0.109899 -0.000027 -2.100258e-10   3.292882  \n",
       " 3      -0.000082  2.067045  0.130868 -0.000096 -2.608576e-10   1.646441  \n",
       " 4       0.000036  0.359997  0.123497  0.001601 -5.689437e-10   0.823220  \n",
       " ...          ...       ...       ...       ...           ...        ...  \n",
       " 999995 -0.000194  0.676407  0.128626  0.000742 -5.407655e-10   1.646441  \n",
       " 999996  0.000321  4.057427  0.300073  0.000062 -1.702328e-10   1.646441  \n",
       " 999997 -0.000248  0.943584  0.287048  0.000237 -4.703286e-10   3.292882  \n",
       " 999998  0.001304  2.746163  0.107430 -0.000070 -2.435118e-10   6.585764  \n",
       " 999999  0.002315  2.981620  0.427651  0.000583 -2.915044e-10   1.646441  \n",
       " \n",
       " [974832 rows x 17 columns],\n",
       "           x         y         z         m    h  hsoft  maccreted  \\\n",
       " 0 -3.228391 -1.104846 -0.043024  0.607626  1.0    1.0   0.007626   \n",
       " \n",
       "           spinx     spiny     spinz  tlast        vx       vy        vz  \n",
       " 0 -7.273580e-07 -0.000004  0.001649    0.0 -0.000603  0.00031 -0.000001  ]"
      ]
     },
     "execution_count": 20,
     "metadata": {},
     "output_type": "execute_result"
    }
   ],
   "source": [
    "sdf\n"
   ]
  },
  {
   "cell_type": "code",
   "execution_count": 1,
   "id": "1f4e8792-dad2-44ad-a3ff-134242305deb",
   "metadata": {},
   "outputs": [
    {
     "ename": "NameError",
     "evalue": "name 'sdf' is not defined",
     "output_type": "error",
     "traceback": [
      "\u001b[0;31m---------------------------------------------------------------------------\u001b[0m",
      "\u001b[0;31mNameError\u001b[0m                                 Traceback (most recent call last)",
      "Cell \u001b[0;32mIn[1], line 1\u001b[0m\n\u001b[0;32m----> 1\u001b[0m \u001b[43msdf\u001b[49m\u001b[38;5;241m.\u001b[39mdescribe()\n",
      "\u001b[0;31mNameError\u001b[0m: name 'sdf' is not defined"
     ]
    }
   ],
   "source": [
    "sdf.describe()"
   ]
  },
  {
   "cell_type": "code",
   "execution_count": 2,
   "id": "86cdd5db-6e52-4239-b0cd-55a22c8577d5",
   "metadata": {},
   "outputs": [
    {
     "ename": "NameError",
     "evalue": "name 'sarracen' is not defined",
     "output_type": "error",
     "traceback": [
      "\u001b[0;31m---------------------------------------------------------------------------\u001b[0m",
      "\u001b[0;31mNameError\u001b[0m                                 Traceback (most recent call last)",
      "Cell \u001b[0;32mIn[2], line 1\u001b[0m\n\u001b[0;32m----> 1\u001b[0m sdf \u001b[38;5;241m=\u001b[39m \u001b[43msarracen\u001b[49m\u001b[38;5;241m.\u001b[39mread_phantom(\u001b[38;5;124m'\u001b[39m\u001b[38;5;124m/home/mbeng/Documents/DrCass/sg_00030\u001b[39m\u001b[38;5;124m'\u001b[39m,separate_types\u001b[38;5;241m=\u001b[39m\u001b[38;5;124m'\u001b[39m\u001b[38;5;124mall\u001b[39m\u001b[38;5;124m'\u001b[39m)\n",
      "\u001b[0;31mNameError\u001b[0m: name 'sarracen' is not defined"
     ]
    }
   ],
   "source": [
    "sdf = sarracen.read_phantom('/home/mbeng/Documents/DrCass/sg_00030',separate_types='all')"
   ]
  },
  {
   "cell_type": "code",
   "execution_count": 3,
   "id": "282c6a72-e72f-462e-9179-5979bdfe25a1",
   "metadata": {},
   "outputs": [
    {
     "ename": "ModuleNotFoundError",
     "evalue": "No module named 'saraccen'",
     "output_type": "error",
     "traceback": [
      "\u001b[0;31m---------------------------------------------------------------------------\u001b[0m",
      "\u001b[0;31mModuleNotFoundError\u001b[0m                       Traceback (most recent call last)",
      "Cell \u001b[0;32mIn[3], line 2\u001b[0m\n\u001b[1;32m      1\u001b[0m \u001b[38;5;28;01mimport\u001b[39;00m \u001b[38;5;21;01mpandas\u001b[39;00m \u001b[38;5;28;01mas\u001b[39;00m \u001b[38;5;21;01mpd\u001b[39;00m\n\u001b[0;32m----> 2\u001b[0m \u001b[38;5;28;01mimport\u001b[39;00m \u001b[38;5;21;01msaraccen\u001b[39;00m\n",
      "\u001b[0;31mModuleNotFoundError\u001b[0m: No module named 'saraccen'"
     ]
    }
   ],
   "source": [
    "import pandas as pd\n",
    "import saraccen"
   ]
  },
  {
   "cell_type": "code",
   "execution_count": 1,
   "id": "820f4d39-81d5-41ba-a437-60f0f23bc0de",
   "metadata": {},
   "outputs": [
    {
     "name": "stderr",
     "output_type": "stream",
     "text": [
      "/home/mbeng/.local/lib/python3.10/site-packages/sarracen/kernels/cubic_spline.py:15: NumbaDeprecationWarning: \u001b[1mThe 'nopython' keyword argument was not supplied to the 'numba.jit' decorator. The implicit default value for this argument is currently False, but it will be changed to True in Numba 0.59.0. See https://numba.readthedocs.io/en/stable/reference/deprecation.html#deprecation-of-object-mode-fall-back-behaviour-when-using-jit for details.\u001b[0m\n",
      "  @jit(fastmath=True)\n",
      "/home/mbeng/.local/lib/python3.10/site-packages/sarracen/kernels/quartic_spline.py:15: NumbaDeprecationWarning: \u001b[1mThe 'nopython' keyword argument was not supplied to the 'numba.jit' decorator. The implicit default value for this argument is currently False, but it will be changed to True in Numba 0.59.0. See https://numba.readthedocs.io/en/stable/reference/deprecation.html#deprecation-of-object-mode-fall-back-behaviour-when-using-jit for details.\u001b[0m\n",
      "  @jit(fastmath=True)\n",
      "/home/mbeng/.local/lib/python3.10/site-packages/sarracen/kernels/quintic_spline.py:15: NumbaDeprecationWarning: \u001b[1mThe 'nopython' keyword argument was not supplied to the 'numba.jit' decorator. The implicit default value for this argument is currently False, but it will be changed to True in Numba 0.59.0. See https://numba.readthedocs.io/en/stable/reference/deprecation.html#deprecation-of-object-mode-fall-back-behaviour-when-using-jit for details.\u001b[0m\n",
      "  @jit(fastmath=True)\n"
     ]
    }
   ],
   "source": [
    "import pandas as pd\n",
    "import sarracen"
   ]
  },
  {
   "cell_type": "code",
   "execution_count": 2,
   "id": "eaf41db2-f8fe-4481-b523-31f24ef8161c",
   "metadata": {},
   "outputs": [],
   "source": [
    "sdf = sarracen.read_phantom('/home/mbeng/Documents/DrCass/sg_00030',separate_types='all')"
   ]
  },
  {
   "cell_type": "code",
   "execution_count": 3,
   "id": "b707a800-c6bb-4ced-95d9-d77ce484061b",
   "metadata": {},
   "outputs": [
    {
     "ename": "AttributeError",
     "evalue": "'list' object has no attribute 'describe'",
     "output_type": "error",
     "traceback": [
      "\u001b[0;31m---------------------------------------------------------------------------\u001b[0m",
      "\u001b[0;31mAttributeError\u001b[0m                            Traceback (most recent call last)",
      "Cell \u001b[0;32mIn[3], line 1\u001b[0m\n\u001b[0;32m----> 1\u001b[0m \u001b[43msdf\u001b[49m\u001b[38;5;241;43m.\u001b[39;49m\u001b[43mdescribe\u001b[49m()\n",
      "\u001b[0;31mAttributeError\u001b[0m: 'list' object has no attribute 'describe'"
     ]
    }
   ],
   "source": [
    "sdf.describe()\n"
   ]
  },
  {
   "cell_type": "code",
   "execution_count": 4,
   "id": "f9addb43-ad68-4ead-b3f7-697549bbbd8d",
   "metadata": {},
   "outputs": [
    {
     "data": {
      "text/plain": [
       "list"
      ]
     },
     "execution_count": 4,
     "metadata": {},
     "output_type": "execute_result"
    }
   ],
   "source": [
    "type(sdf)"
   ]
  },
  {
   "cell_type": "code",
   "execution_count": 5,
   "id": "5afb8745-d60f-4d2e-a069-8be1e9f07c0f",
   "metadata": {},
   "outputs": [
    {
     "data": {
      "text/plain": [
       "\u001b[0;31mType:\u001b[0m        module\n",
       "\u001b[0;31mString form:\u001b[0m <module 'sarracen' from '/home/mbeng/.local/lib/python3.10/site-packages/sarracen/__init__.py'>\n",
       "\u001b[0;31mFile:\u001b[0m        ~/.local/lib/python3.10/site-packages/sarracen/__init__.py\n",
       "\u001b[0;31mDocstring:\u001b[0m   <no docstring>"
      ]
     },
     "metadata": {},
     "output_type": "display_data"
    }
   ],
   "source": [
    "sarracen?"
   ]
  },
  {
   "cell_type": "code",
   "execution_count": 6,
   "id": "61791f58-b23a-40de-8455-1edf136c06a3",
   "metadata": {},
   "outputs": [
    {
     "ename": "AttributeError",
     "evalue": "'list' object has no attribute 'render'",
     "output_type": "error",
     "traceback": [
      "\u001b[0;31m---------------------------------------------------------------------------\u001b[0m",
      "\u001b[0;31mAttributeError\u001b[0m                            Traceback (most recent call last)",
      "Cell \u001b[0;32mIn[6], line 1\u001b[0m\n\u001b[0;32m----> 1\u001b[0m \u001b[43msdf\u001b[49m\u001b[38;5;241;43m.\u001b[39;49m\u001b[43mrender\u001b[49m()\n",
      "\u001b[0;31mAttributeError\u001b[0m: 'list' object has no attribute 'render'"
     ]
    }
   ],
   "source": [
    "sdf.render()\n"
   ]
  },
  {
   "cell_type": "code",
   "execution_count": 7,
   "id": "f5d7700b-681f-4a12-8595-25ba2537f50e",
   "metadata": {},
   "outputs": [
    {
     "name": "stdout",
     "output_type": "stream",
     "text": [
      "Object `sarracem.render` not found.\n"
     ]
    }
   ],
   "source": [
    "sarracem.render?"
   ]
  },
  {
   "cell_type": "code",
   "execution_count": 8,
   "id": "27758584-e9c0-43d2-be34-2c3942b5fc48",
   "metadata": {
    "scrolled": true
   },
   "outputs": [
    {
     "data": {
      "text/plain": [
       "\u001b[0;31mSignature:\u001b[0m\n",
       "\u001b[0msarracen\u001b[0m\u001b[0;34m.\u001b[0m\u001b[0mrender\u001b[0m\u001b[0;34m(\u001b[0m\u001b[0;34m\u001b[0m\n",
       "\u001b[0;34m\u001b[0m    \u001b[0mdata\u001b[0m\u001b[0;34m:\u001b[0m \u001b[0;34m'SarracenDataFrame'\u001b[0m\u001b[0;34m,\u001b[0m\u001b[0;34m\u001b[0m\n",
       "\u001b[0;34m\u001b[0m    \u001b[0mtarget\u001b[0m\u001b[0;34m:\u001b[0m \u001b[0mstr\u001b[0m\u001b[0;34m,\u001b[0m\u001b[0;34m\u001b[0m\n",
       "\u001b[0;34m\u001b[0m    \u001b[0mx\u001b[0m\u001b[0;34m:\u001b[0m \u001b[0mstr\u001b[0m \u001b[0;34m=\u001b[0m \u001b[0;32mNone\u001b[0m\u001b[0;34m,\u001b[0m\u001b[0;34m\u001b[0m\n",
       "\u001b[0;34m\u001b[0m    \u001b[0my\u001b[0m\u001b[0;34m:\u001b[0m \u001b[0mstr\u001b[0m \u001b[0;34m=\u001b[0m \u001b[0;32mNone\u001b[0m\u001b[0;34m,\u001b[0m\u001b[0;34m\u001b[0m\n",
       "\u001b[0;34m\u001b[0m    \u001b[0mz\u001b[0m\u001b[0;34m:\u001b[0m \u001b[0mstr\u001b[0m \u001b[0;34m=\u001b[0m \u001b[0;32mNone\u001b[0m\u001b[0;34m,\u001b[0m\u001b[0;34m\u001b[0m\n",
       "\u001b[0;34m\u001b[0m    \u001b[0mxsec\u001b[0m\u001b[0;34m:\u001b[0m \u001b[0mUnion\u001b[0m\u001b[0;34m[\u001b[0m\u001b[0mfloat\u001b[0m\u001b[0;34m,\u001b[0m \u001b[0mbool\u001b[0m\u001b[0;34m]\u001b[0m \u001b[0;34m=\u001b[0m \u001b[0;32mNone\u001b[0m\u001b[0;34m,\u001b[0m\u001b[0;34m\u001b[0m\n",
       "\u001b[0;34m\u001b[0m    \u001b[0mkernel\u001b[0m\u001b[0;34m:\u001b[0m \u001b[0msarracen\u001b[0m\u001b[0;34m.\u001b[0m\u001b[0mkernels\u001b[0m\u001b[0;34m.\u001b[0m\u001b[0mbase_kernel\u001b[0m\u001b[0;34m.\u001b[0m\u001b[0mBaseKernel\u001b[0m \u001b[0;34m=\u001b[0m \u001b[0;32mNone\u001b[0m\u001b[0;34m,\u001b[0m\u001b[0;34m\u001b[0m\n",
       "\u001b[0;34m\u001b[0m    \u001b[0mx_pixels\u001b[0m\u001b[0;34m:\u001b[0m \u001b[0mint\u001b[0m \u001b[0;34m=\u001b[0m \u001b[0;32mNone\u001b[0m\u001b[0;34m,\u001b[0m\u001b[0;34m\u001b[0m\n",
       "\u001b[0;34m\u001b[0m    \u001b[0my_pixels\u001b[0m\u001b[0;34m:\u001b[0m \u001b[0mint\u001b[0m \u001b[0;34m=\u001b[0m \u001b[0;32mNone\u001b[0m\u001b[0;34m,\u001b[0m\u001b[0;34m\u001b[0m\n",
       "\u001b[0;34m\u001b[0m    \u001b[0mxlim\u001b[0m\u001b[0;34m:\u001b[0m \u001b[0mTuple\u001b[0m\u001b[0;34m[\u001b[0m\u001b[0mfloat\u001b[0m\u001b[0;34m,\u001b[0m \u001b[0mfloat\u001b[0m\u001b[0;34m]\u001b[0m \u001b[0;34m=\u001b[0m \u001b[0;32mNone\u001b[0m\u001b[0;34m,\u001b[0m\u001b[0;34m\u001b[0m\n",
       "\u001b[0;34m\u001b[0m    \u001b[0mylim\u001b[0m\u001b[0;34m:\u001b[0m \u001b[0mTuple\u001b[0m\u001b[0;34m[\u001b[0m\u001b[0mfloat\u001b[0m\u001b[0;34m,\u001b[0m \u001b[0mfloat\u001b[0m\u001b[0;34m]\u001b[0m \u001b[0;34m=\u001b[0m \u001b[0;32mNone\u001b[0m\u001b[0;34m,\u001b[0m\u001b[0;34m\u001b[0m\n",
       "\u001b[0;34m\u001b[0m    \u001b[0mcmap\u001b[0m\u001b[0;34m:\u001b[0m \u001b[0mUnion\u001b[0m\u001b[0;34m[\u001b[0m\u001b[0mstr\u001b[0m\u001b[0;34m,\u001b[0m \u001b[0mmatplotlib\u001b[0m\u001b[0;34m.\u001b[0m\u001b[0mcolors\u001b[0m\u001b[0;34m.\u001b[0m\u001b[0mColormap\u001b[0m\u001b[0;34m]\u001b[0m \u001b[0;34m=\u001b[0m \u001b[0;34m'gist_heat'\u001b[0m\u001b[0;34m,\u001b[0m\u001b[0;34m\u001b[0m\n",
       "\u001b[0;34m\u001b[0m    \u001b[0mcbar\u001b[0m\u001b[0;34m:\u001b[0m \u001b[0mbool\u001b[0m \u001b[0;34m=\u001b[0m \u001b[0;32mTrue\u001b[0m\u001b[0;34m,\u001b[0m\u001b[0;34m\u001b[0m\n",
       "\u001b[0;34m\u001b[0m    \u001b[0mcbar_kws\u001b[0m\u001b[0;34m:\u001b[0m \u001b[0mdict\u001b[0m \u001b[0;34m=\u001b[0m \u001b[0;34m{\u001b[0m\u001b[0;34m}\u001b[0m\u001b[0;34m,\u001b[0m\u001b[0;34m\u001b[0m\n",
       "\u001b[0;34m\u001b[0m    \u001b[0mcbar_ax\u001b[0m\u001b[0;34m:\u001b[0m \u001b[0mmatplotlib\u001b[0m\u001b[0;34m.\u001b[0m\u001b[0maxes\u001b[0m\u001b[0;34m.\u001b[0m\u001b[0m_axes\u001b[0m\u001b[0;34m.\u001b[0m\u001b[0mAxes\u001b[0m \u001b[0;34m=\u001b[0m \u001b[0;32mNone\u001b[0m\u001b[0;34m,\u001b[0m\u001b[0;34m\u001b[0m\n",
       "\u001b[0;34m\u001b[0m    \u001b[0max\u001b[0m\u001b[0;34m:\u001b[0m \u001b[0mmatplotlib\u001b[0m\u001b[0;34m.\u001b[0m\u001b[0maxes\u001b[0m\u001b[0;34m.\u001b[0m\u001b[0m_axes\u001b[0m\u001b[0;34m.\u001b[0m\u001b[0mAxes\u001b[0m \u001b[0;34m=\u001b[0m \u001b[0;32mNone\u001b[0m\u001b[0;34m,\u001b[0m\u001b[0;34m\u001b[0m\n",
       "\u001b[0;34m\u001b[0m    \u001b[0mexact\u001b[0m\u001b[0;34m:\u001b[0m \u001b[0mbool\u001b[0m \u001b[0;34m=\u001b[0m \u001b[0;32mNone\u001b[0m\u001b[0;34m,\u001b[0m\u001b[0;34m\u001b[0m\n",
       "\u001b[0;34m\u001b[0m    \u001b[0mbackend\u001b[0m\u001b[0;34m:\u001b[0m \u001b[0mstr\u001b[0m \u001b[0;34m=\u001b[0m \u001b[0;32mNone\u001b[0m\u001b[0;34m,\u001b[0m\u001b[0;34m\u001b[0m\n",
       "\u001b[0;34m\u001b[0m    \u001b[0mintegral_samples\u001b[0m\u001b[0;34m:\u001b[0m \u001b[0mint\u001b[0m \u001b[0;34m=\u001b[0m \u001b[0;36m1000\u001b[0m\u001b[0;34m,\u001b[0m\u001b[0;34m\u001b[0m\n",
       "\u001b[0;34m\u001b[0m    \u001b[0mrotation\u001b[0m\u001b[0;34m:\u001b[0m \u001b[0mnumpy\u001b[0m\u001b[0;34m.\u001b[0m\u001b[0mndarray\u001b[0m \u001b[0;34m=\u001b[0m \u001b[0;32mNone\u001b[0m\u001b[0;34m,\u001b[0m\u001b[0;34m\u001b[0m\n",
       "\u001b[0;34m\u001b[0m    \u001b[0mrot_origin\u001b[0m\u001b[0;34m:\u001b[0m \u001b[0mnumpy\u001b[0m\u001b[0;34m.\u001b[0m\u001b[0mndarray\u001b[0m \u001b[0;34m=\u001b[0m \u001b[0;32mNone\u001b[0m\u001b[0;34m,\u001b[0m\u001b[0;34m\u001b[0m\n",
       "\u001b[0;34m\u001b[0m    \u001b[0mlog_scale\u001b[0m\u001b[0;34m:\u001b[0m \u001b[0mbool\u001b[0m \u001b[0;34m=\u001b[0m \u001b[0;32mFalse\u001b[0m\u001b[0;34m,\u001b[0m\u001b[0;34m\u001b[0m\n",
       "\u001b[0;34m\u001b[0m    \u001b[0mdens_weight\u001b[0m\u001b[0;34m:\u001b[0m \u001b[0mbool\u001b[0m \u001b[0;34m=\u001b[0m \u001b[0;32mNone\u001b[0m\u001b[0;34m,\u001b[0m\u001b[0;34m\u001b[0m\n",
       "\u001b[0;34m\u001b[0m    \u001b[0mnormalize\u001b[0m\u001b[0;34m:\u001b[0m \u001b[0mbool\u001b[0m \u001b[0;34m=\u001b[0m \u001b[0;32mTrue\u001b[0m\u001b[0;34m,\u001b[0m\u001b[0;34m\u001b[0m\n",
       "\u001b[0;34m\u001b[0m    \u001b[0mhmin\u001b[0m\u001b[0;34m:\u001b[0m \u001b[0mbool\u001b[0m \u001b[0;34m=\u001b[0m \u001b[0;32mFalse\u001b[0m\u001b[0;34m,\u001b[0m\u001b[0;34m\u001b[0m\n",
       "\u001b[0;34m\u001b[0m    \u001b[0;34m**\u001b[0m\u001b[0mkwargs\u001b[0m\u001b[0;34m,\u001b[0m\u001b[0;34m\u001b[0m\n",
       "\u001b[0;34m\u001b[0m\u001b[0;34m)\u001b[0m \u001b[0;34m->\u001b[0m \u001b[0mmatplotlib\u001b[0m\u001b[0;34m.\u001b[0m\u001b[0maxes\u001b[0m\u001b[0;34m.\u001b[0m\u001b[0m_axes\u001b[0m\u001b[0;34m.\u001b[0m\u001b[0mAxes\u001b[0m\u001b[0;34m\u001b[0m\u001b[0;34m\u001b[0m\u001b[0m\n",
       "\u001b[0;31mDocstring:\u001b[0m\n",
       "Render a scalar SPH target variable to a grid plot.\n",
       "\n",
       "Parameters\n",
       "----------\n",
       "data : SarracenDataFrame\n",
       "    Particle data, in a SarracenDataFrame.\n",
       "target: str\n",
       "    Column label of the target variable.\n",
       "x, y, z: str, optional\n",
       "    Column labels of the x, y & z directional axes. Defaults to the columns detected in `data`.\n",
       "xsec: float, optional.\n",
       "    For a 3D dataset, the z value to take a cross-section at. If none, column interpolation is performed.\n",
       "kernel: BaseKernel, optional\n",
       "    Kernel to use for smoothing the target data. Defaults to the kernel specified in `data`.\n",
       "x_pixels, y_pixels: int, optional\n",
       "    Number of pixels present in the final image.\n",
       "xlim, ylim: tuple of float, optional\n",
       "    The starting and ending corners of the final 2D image.\n",
       "vmin, vmax: float, optional\n",
       "    Lower and upper limits of the range of values for the colour bar.\n",
       "cmap: str or Colormap, optional\n",
       "    The color map to use when plotting a 2D image.\n",
       "cbar: bool, optional\n",
       "    True if a colorbar should be drawn.\n",
       "cbar_kws: dict, optional\n",
       "    Keyword arguments to pass to matplotlib.figure.Figure.colorbar().\n",
       "cbar_ax: Axes\n",
       "    Axes to draw the colorbar in, if not provided then space will be taken from the main Axes.\n",
       "ax: Axes\n",
       "    The main axes in which to draw the rendered image.\n",
       "exact: bool\n",
       "    Whether to use exact interpolation of the data. For cross-sections this is ignored. Defaults to False.\n",
       "backend: ['cpu', 'gpu']\n",
       "    The computation backend to use when interpolating this data. Defaults to 'gpu' if CUDA is enabled, otherwise\n",
       "    'cpu' is used. A manually specified backend in `data` will override the default.\n",
       "integral_samples: int, optional\n",
       "    If using column interpolation, the number of sample points to take when approximating the 2D column kernel.\n",
       "rotation: array_like or Rotation, optional\n",
       "    The rotation to apply to the data before interpolation. If defined as an array, the\n",
       "    order of rotations is [z, y, x] in degrees. Only applies to 3D datasets.\n",
       "rot_origin: array_like, optional\n",
       "    Point of rotation of the data, in [x, y, z] form. Defaults to the centre\n",
       "    point of the bounds of the data. Only applies to 3D datasets.\n",
       "log_scale: bool\n",
       "    Whether to use a logarithmic scale for color coding.\n",
       "dens_weight: bool\n",
       "    If True, will plot the target mutliplied by the density. Defaults to True for column-integrated views,\n",
       "    when the target is not density, and False for everything else.\n",
       "normalize: bool\n",
       "    If True, will normalize the interpolation. Defaults to False (this may change in future versions).\n",
       "hmin: bool\n",
       "    If True, a minimum smoothing length of 0.5 * pixel size will be imposed. This ensures each particle\n",
       "    contributes to at least one grid cell / pixel. Defaults to False (this may change in a future verison).\n",
       "kwargs: other keyword arguments\n",
       "    Keyword arguments to pass to ax.imshow.\n",
       "\n",
       "Returns\n",
       "-------\n",
       "Axes\n",
       "    The resulting matplotlib axes, which contain the 2d rendered image.\n",
       "\n",
       "Raises\n",
       "------\n",
       "ValueError\n",
       "    If `x_pixels` or `y_pixels` are less than or equal to zero, or\n",
       "    if the specified `x` and `y` minimum and maximums result in an invalid region.\n",
       "KeyError\n",
       "    If `target`, `x`, `y`, mass, density, or smoothing length columns do not\n",
       "    exist in `data`.\n",
       "\n",
       "Notes\n",
       "-----\n",
       "The standard render will interpolate the target quantity, :math:`A`, from the particles to a pixel\n",
       "grid using the following equation:\n",
       "\n",
       "    .. math::\n",
       "\n",
       "        A_{pixel} = \\sum_b \\frac{m_b}{\\rho_b} A_b W_{ab}(h_b)\n",
       "\n",
       "where :math:`m` is the mass, :math:`\\rho` is the density, and :math:`W` is the smoothing kernel with\n",
       "smoothing length, :math:`h`.\n",
       "\n",
       "Normalized interpolation divides the above summation by an interpolation of a constant scalar field\n",
       "equal to 1:\n",
       "\n",
       "    .. math::\n",
       "\n",
       "        A_{pixel} = \\frac{\\sum_b \\frac{m_b}{\\rho_b} A_b W_{ab}(h_b)}{\\sum_b \\frac{m_b}{\\rho_b} W_{ab}(h_b)}\n",
       "\n",
       "In theory, the denominator will be equal to 1 and dividing by 1 has no impact. In practice, the\n",
       "particle arrangement and the smoothing kernel affects the quality of interpolation. Normalizing by\n",
       "this approximation of 1 helps to account for this.\n",
       "\n",
       "For when to use normalized interpolation, the advice given by Splash is recommended: in general use\n",
       "it for smoother renderings, but avoid when there are free surfaces, as it can cause them to be\n",
       "over-exaggerated.\n",
       "\n",
       "Density-weighted interpolation will interpolate the quantity :math:`\\rho A`, that is, the target\n",
       ":math:`A` multiplied by the density, :math:`\\rho`. If normalize=True, then density-weighted\n",
       "interpolation will be normalized by the density.\n",
       "\n",
       "Column-integrated views of 3D data (i.e., xsec=None) will calculate the following:\n",
       "\n",
       "    .. math::\n",
       "\n",
       "        A_{pixel} = \\sum_b \\frac{m_b}{\\rho_b} A_b \\int W_{ab}(h_b) dz ,\n",
       "\n",
       "which uses the integral of the kernel along the chosen line of sight.\n",
       "\u001b[0;31mFile:\u001b[0m      ~/.local/lib/python3.10/site-packages/sarracen/render.py\n",
       "\u001b[0;31mType:\u001b[0m      function"
      ]
     },
     "metadata": {},
     "output_type": "display_data"
    }
   ],
   "source": [
    "sarracen.render?"
   ]
  },
  {
   "cell_type": "code",
   "execution_count": 9,
   "id": "c802f851-82e4-4efc-a754-82776abd2ea1",
   "metadata": {},
   "outputs": [
    {
     "name": "stdout",
     "output_type": "stream",
     "text": [
      "Object `sarracen.dataframe` not found.\n"
     ]
    }
   ],
   "source": [
    "sarracen.dataframe?"
   ]
  },
  {
   "cell_type": "code",
   "execution_count": 10,
   "id": "1bafccc9-c4d6-415e-9549-5b47b62ba45a",
   "metadata": {},
   "outputs": [
    {
     "data": {
      "text/plain": [
       "\u001b[0;31mType:\u001b[0m        module\n",
       "\u001b[0;31mString form:\u001b[0m <module 'sarracen.sarracen_dataframe' from '/home/mbeng/.local/lib/python3.10/site-packages/sarracen/sarracen_dataframe.py'>\n",
       "\u001b[0;31mFile:\u001b[0m        ~/.local/lib/python3.10/site-packages/sarracen/sarracen_dataframe.py\n",
       "\u001b[0;31mDocstring:\u001b[0m   <no docstring>"
      ]
     },
     "metadata": {},
     "output_type": "display_data"
    }
   ],
   "source": [
    "sarracen.sarracen_dataframe?"
   ]
  },
  {
   "cell_type": "code",
   "execution_count": 11,
   "id": "639cf276-9575-4743-aa93-a9c7484fe73c",
   "metadata": {},
   "outputs": [
    {
     "ename": "AttributeError",
     "evalue": "'list' object has no attribute 'sarracen_dataframe'",
     "output_type": "error",
     "traceback": [
      "\u001b[0;31m---------------------------------------------------------------------------\u001b[0m",
      "\u001b[0;31mAttributeError\u001b[0m                            Traceback (most recent call last)",
      "Cell \u001b[0;32mIn[11], line 1\u001b[0m\n\u001b[0;32m----> 1\u001b[0m df \u001b[38;5;241m=\u001b[39m \u001b[43msdf\u001b[49m\u001b[38;5;241;43m.\u001b[39;49m\u001b[43msarracen_dataframe\u001b[49m()\n",
      "\u001b[0;31mAttributeError\u001b[0m: 'list' object has no attribute 'sarracen_dataframe'"
     ]
    }
   ],
   "source": [
    "df = sdf.sarracen_dataframe()"
   ]
  },
  {
   "cell_type": "code",
   "execution_count": 12,
   "id": "4bdda670-8589-4a29-b627-5e1ff4196c0e",
   "metadata": {},
   "outputs": [
    {
     "ename": "AttributeError",
     "evalue": "module 'sarracen' has no attribute 'describe'",
     "output_type": "error",
     "traceback": [
      "\u001b[0;31m---------------------------------------------------------------------------\u001b[0m",
      "\u001b[0;31mAttributeError\u001b[0m                            Traceback (most recent call last)",
      "Cell \u001b[0;32mIn[12], line 1\u001b[0m\n\u001b[0;32m----> 1\u001b[0m \u001b[43msarracen\u001b[49m\u001b[38;5;241;43m.\u001b[39;49m\u001b[43mdescribe\u001b[49m(sdf)\n",
      "\u001b[0;31mAttributeError\u001b[0m: module 'sarracen' has no attribute 'describe'"
     ]
    }
   ],
   "source": [
    "sarracen.describe(sdf)\n"
   ]
  },
  {
   "cell_type": "code",
   "execution_count": 13,
   "id": "fc0b1885-0198-42cb-988d-e3a3952064aa",
   "metadata": {},
   "outputs": [
    {
     "ename": "TypeError",
     "evalue": "render() missing 1 required positional argument: 'target'",
     "output_type": "error",
     "traceback": [
      "\u001b[0;31m---------------------------------------------------------------------------\u001b[0m",
      "\u001b[0;31mTypeError\u001b[0m                                 Traceback (most recent call last)",
      "Cell \u001b[0;32mIn[13], line 1\u001b[0m\n\u001b[0;32m----> 1\u001b[0m \u001b[43msarracen\u001b[49m\u001b[38;5;241;43m.\u001b[39;49m\u001b[43mrender\u001b[49m\u001b[43m(\u001b[49m\u001b[43msdf\u001b[49m\u001b[43m)\u001b[49m\n",
      "\u001b[0;31mTypeError\u001b[0m: render() missing 1 required positional argument: 'target'"
     ]
    }
   ],
   "source": [
    "sarracen.render(sdf)"
   ]
  },
  {
   "cell_type": "code",
   "execution_count": 14,
   "id": "bc019ff9-7c59-457c-8133-2d34bc14ff0f",
   "metadata": {},
   "outputs": [
    {
     "ename": "AttributeError",
     "evalue": "'list' object has no attribute 'get_dim'",
     "output_type": "error",
     "traceback": [
      "\u001b[0;31m---------------------------------------------------------------------------\u001b[0m",
      "\u001b[0;31mAttributeError\u001b[0m                            Traceback (most recent call last)",
      "Cell \u001b[0;32mIn[14], line 1\u001b[0m\n\u001b[0;32m----> 1\u001b[0m \u001b[43msarracen\u001b[49m\u001b[38;5;241;43m.\u001b[39;49m\u001b[43mrender\u001b[49m\u001b[43m(\u001b[49m\u001b[43msdf\u001b[49m\u001b[43m,\u001b[49m\u001b[43m \u001b[49m\u001b[43mtarget\u001b[49m\u001b[38;5;241;43m=\u001b[39;49m\u001b[38;5;124;43m'\u001b[39;49m\u001b[38;5;124;43max\u001b[39;49m\u001b[38;5;124;43m'\u001b[39;49m\u001b[43m)\u001b[49m\n",
      "File \u001b[0;32m~/.local/lib/python3.10/site-packages/sarracen/render.py:246\u001b[0m, in \u001b[0;36mrender\u001b[0;34m(data, target, x, y, z, xsec, kernel, x_pixels, y_pixels, xlim, ylim, cmap, cbar, cbar_kws, cbar_ax, ax, exact, backend, integral_samples, rotation, rot_origin, log_scale, dens_weight, normalize, hmin, **kwargs)\u001b[0m\n\u001b[1;32m    129\u001b[0m \u001b[38;5;28;01mdef\u001b[39;00m \u001b[38;5;21mrender\u001b[39m(data: \u001b[38;5;124m'\u001b[39m\u001b[38;5;124mSarracenDataFrame\u001b[39m\u001b[38;5;124m'\u001b[39m, target: \u001b[38;5;28mstr\u001b[39m, x: \u001b[38;5;28mstr\u001b[39m \u001b[38;5;241m=\u001b[39m \u001b[38;5;28;01mNone\u001b[39;00m, y: \u001b[38;5;28mstr\u001b[39m \u001b[38;5;241m=\u001b[39m \u001b[38;5;28;01mNone\u001b[39;00m, z: \u001b[38;5;28mstr\u001b[39m \u001b[38;5;241m=\u001b[39m \u001b[38;5;28;01mNone\u001b[39;00m,\n\u001b[1;32m    130\u001b[0m            xsec: Union[\u001b[38;5;28mfloat\u001b[39m, \u001b[38;5;28mbool\u001b[39m] \u001b[38;5;241m=\u001b[39m \u001b[38;5;28;01mNone\u001b[39;00m, kernel: BaseKernel \u001b[38;5;241m=\u001b[39m \u001b[38;5;28;01mNone\u001b[39;00m, x_pixels: \u001b[38;5;28mint\u001b[39m \u001b[38;5;241m=\u001b[39m \u001b[38;5;28;01mNone\u001b[39;00m, y_pixels: \u001b[38;5;28mint\u001b[39m \u001b[38;5;241m=\u001b[39m \u001b[38;5;28;01mNone\u001b[39;00m,\n\u001b[1;32m    131\u001b[0m            xlim: Tuple[\u001b[38;5;28mfloat\u001b[39m, \u001b[38;5;28mfloat\u001b[39m] \u001b[38;5;241m=\u001b[39m \u001b[38;5;28;01mNone\u001b[39;00m, ylim: Tuple[\u001b[38;5;28mfloat\u001b[39m, \u001b[38;5;28mfloat\u001b[39m] \u001b[38;5;241m=\u001b[39m \u001b[38;5;28;01mNone\u001b[39;00m, cmap: Union[\u001b[38;5;28mstr\u001b[39m, Colormap] \u001b[38;5;241m=\u001b[39m \u001b[38;5;124m'\u001b[39m\u001b[38;5;124mgist_heat\u001b[39m\u001b[38;5;124m'\u001b[39m,\n\u001b[0;32m   (...)\u001b[0m\n\u001b[1;32m    134\u001b[0m            rot_origin: np\u001b[38;5;241m.\u001b[39mndarray \u001b[38;5;241m=\u001b[39m \u001b[38;5;28;01mNone\u001b[39;00m, log_scale: \u001b[38;5;28mbool\u001b[39m \u001b[38;5;241m=\u001b[39m \u001b[38;5;28;01mFalse\u001b[39;00m, dens_weight: \u001b[38;5;28mbool\u001b[39m \u001b[38;5;241m=\u001b[39m \u001b[38;5;28;01mNone\u001b[39;00m, normalize: \u001b[38;5;28mbool\u001b[39m \u001b[38;5;241m=\u001b[39m \u001b[38;5;28;01mTrue\u001b[39;00m,\n\u001b[1;32m    135\u001b[0m            hmin: \u001b[38;5;28mbool\u001b[39m \u001b[38;5;241m=\u001b[39m \u001b[38;5;28;01mFalse\u001b[39;00m, \u001b[38;5;241m*\u001b[39m\u001b[38;5;241m*\u001b[39mkwargs) \u001b[38;5;241m-\u001b[39m\u001b[38;5;241m>\u001b[39m Axes:\n\u001b[1;32m    136\u001b[0m \u001b[38;5;250m    \u001b[39m\u001b[38;5;124;03m\"\"\"\u001b[39;00m\n\u001b[1;32m    137\u001b[0m \u001b[38;5;124;03m    Render a scalar SPH target variable to a grid plot.\u001b[39;00m\n\u001b[1;32m    138\u001b[0m \n\u001b[0;32m   (...)\u001b[0m\n\u001b[1;32m    244\u001b[0m \u001b[38;5;124;03m    which uses the integral of the kernel along the chosen line of sight.\u001b[39;00m\n\u001b[1;32m    245\u001b[0m \u001b[38;5;124;03m    \"\"\"\u001b[39;00m\n\u001b[0;32m--> 246\u001b[0m     \u001b[38;5;28;01mif\u001b[39;00m \u001b[43mdata\u001b[49m\u001b[38;5;241;43m.\u001b[39;49m\u001b[43mget_dim\u001b[49m() \u001b[38;5;241m==\u001b[39m \u001b[38;5;241m2\u001b[39m:\n\u001b[1;32m    247\u001b[0m         interpolation_type \u001b[38;5;241m=\u001b[39m \u001b[38;5;124m'\u001b[39m\u001b[38;5;124m2d\u001b[39m\u001b[38;5;124m'\u001b[39m\n\u001b[1;32m    248\u001b[0m         \u001b[38;5;28;01mif\u001b[39;00m dens_weight \u001b[38;5;129;01mis\u001b[39;00m \u001b[38;5;28;01mNone\u001b[39;00m:\n",
      "\u001b[0;31mAttributeError\u001b[0m: 'list' object has no attribute 'get_dim'"
     ]
    }
   ],
   "source": [
    "sarracen.render(sdf, target='ax')"
   ]
  },
  {
   "cell_type": "code",
   "execution_count": 15,
   "id": "9eb2854c-079d-4b28-bd04-8397203fb155",
   "metadata": {},
   "outputs": [
    {
     "ename": "AttributeError",
     "evalue": "'list' object has no attribute 'get_dim'",
     "output_type": "error",
     "traceback": [
      "\u001b[0;31m---------------------------------------------------------------------------\u001b[0m",
      "\u001b[0;31mAttributeError\u001b[0m                            Traceback (most recent call last)",
      "Cell \u001b[0;32mIn[15], line 1\u001b[0m\n\u001b[0;32m----> 1\u001b[0m \u001b[43msarracen\u001b[49m\u001b[38;5;241;43m.\u001b[39;49m\u001b[43mrender\u001b[49m\u001b[43m(\u001b[49m\u001b[43msdf\u001b[49m\u001b[43m,\u001b[49m\u001b[43m \u001b[49m\u001b[43mtarget\u001b[49m\u001b[38;5;241;43m=\u001b[39;49m\u001b[38;5;124;43m'\u001b[39;49m\u001b[38;5;124;43mx\u001b[39;49m\u001b[38;5;124;43m'\u001b[39;49m\u001b[43m)\u001b[49m\n",
      "File \u001b[0;32m~/.local/lib/python3.10/site-packages/sarracen/render.py:246\u001b[0m, in \u001b[0;36mrender\u001b[0;34m(data, target, x, y, z, xsec, kernel, x_pixels, y_pixels, xlim, ylim, cmap, cbar, cbar_kws, cbar_ax, ax, exact, backend, integral_samples, rotation, rot_origin, log_scale, dens_weight, normalize, hmin, **kwargs)\u001b[0m\n\u001b[1;32m    129\u001b[0m \u001b[38;5;28;01mdef\u001b[39;00m \u001b[38;5;21mrender\u001b[39m(data: \u001b[38;5;124m'\u001b[39m\u001b[38;5;124mSarracenDataFrame\u001b[39m\u001b[38;5;124m'\u001b[39m, target: \u001b[38;5;28mstr\u001b[39m, x: \u001b[38;5;28mstr\u001b[39m \u001b[38;5;241m=\u001b[39m \u001b[38;5;28;01mNone\u001b[39;00m, y: \u001b[38;5;28mstr\u001b[39m \u001b[38;5;241m=\u001b[39m \u001b[38;5;28;01mNone\u001b[39;00m, z: \u001b[38;5;28mstr\u001b[39m \u001b[38;5;241m=\u001b[39m \u001b[38;5;28;01mNone\u001b[39;00m,\n\u001b[1;32m    130\u001b[0m            xsec: Union[\u001b[38;5;28mfloat\u001b[39m, \u001b[38;5;28mbool\u001b[39m] \u001b[38;5;241m=\u001b[39m \u001b[38;5;28;01mNone\u001b[39;00m, kernel: BaseKernel \u001b[38;5;241m=\u001b[39m \u001b[38;5;28;01mNone\u001b[39;00m, x_pixels: \u001b[38;5;28mint\u001b[39m \u001b[38;5;241m=\u001b[39m \u001b[38;5;28;01mNone\u001b[39;00m, y_pixels: \u001b[38;5;28mint\u001b[39m \u001b[38;5;241m=\u001b[39m \u001b[38;5;28;01mNone\u001b[39;00m,\n\u001b[1;32m    131\u001b[0m            xlim: Tuple[\u001b[38;5;28mfloat\u001b[39m, \u001b[38;5;28mfloat\u001b[39m] \u001b[38;5;241m=\u001b[39m \u001b[38;5;28;01mNone\u001b[39;00m, ylim: Tuple[\u001b[38;5;28mfloat\u001b[39m, \u001b[38;5;28mfloat\u001b[39m] \u001b[38;5;241m=\u001b[39m \u001b[38;5;28;01mNone\u001b[39;00m, cmap: Union[\u001b[38;5;28mstr\u001b[39m, Colormap] \u001b[38;5;241m=\u001b[39m \u001b[38;5;124m'\u001b[39m\u001b[38;5;124mgist_heat\u001b[39m\u001b[38;5;124m'\u001b[39m,\n\u001b[0;32m   (...)\u001b[0m\n\u001b[1;32m    134\u001b[0m            rot_origin: np\u001b[38;5;241m.\u001b[39mndarray \u001b[38;5;241m=\u001b[39m \u001b[38;5;28;01mNone\u001b[39;00m, log_scale: \u001b[38;5;28mbool\u001b[39m \u001b[38;5;241m=\u001b[39m \u001b[38;5;28;01mFalse\u001b[39;00m, dens_weight: \u001b[38;5;28mbool\u001b[39m \u001b[38;5;241m=\u001b[39m \u001b[38;5;28;01mNone\u001b[39;00m, normalize: \u001b[38;5;28mbool\u001b[39m \u001b[38;5;241m=\u001b[39m \u001b[38;5;28;01mTrue\u001b[39;00m,\n\u001b[1;32m    135\u001b[0m            hmin: \u001b[38;5;28mbool\u001b[39m \u001b[38;5;241m=\u001b[39m \u001b[38;5;28;01mFalse\u001b[39;00m, \u001b[38;5;241m*\u001b[39m\u001b[38;5;241m*\u001b[39mkwargs) \u001b[38;5;241m-\u001b[39m\u001b[38;5;241m>\u001b[39m Axes:\n\u001b[1;32m    136\u001b[0m \u001b[38;5;250m    \u001b[39m\u001b[38;5;124;03m\"\"\"\u001b[39;00m\n\u001b[1;32m    137\u001b[0m \u001b[38;5;124;03m    Render a scalar SPH target variable to a grid plot.\u001b[39;00m\n\u001b[1;32m    138\u001b[0m \n\u001b[0;32m   (...)\u001b[0m\n\u001b[1;32m    244\u001b[0m \u001b[38;5;124;03m    which uses the integral of the kernel along the chosen line of sight.\u001b[39;00m\n\u001b[1;32m    245\u001b[0m \u001b[38;5;124;03m    \"\"\"\u001b[39;00m\n\u001b[0;32m--> 246\u001b[0m     \u001b[38;5;28;01mif\u001b[39;00m \u001b[43mdata\u001b[49m\u001b[38;5;241;43m.\u001b[39;49m\u001b[43mget_dim\u001b[49m() \u001b[38;5;241m==\u001b[39m \u001b[38;5;241m2\u001b[39m:\n\u001b[1;32m    247\u001b[0m         interpolation_type \u001b[38;5;241m=\u001b[39m \u001b[38;5;124m'\u001b[39m\u001b[38;5;124m2d\u001b[39m\u001b[38;5;124m'\u001b[39m\n\u001b[1;32m    248\u001b[0m         \u001b[38;5;28;01mif\u001b[39;00m dens_weight \u001b[38;5;129;01mis\u001b[39;00m \u001b[38;5;28;01mNone\u001b[39;00m:\n",
      "\u001b[0;31mAttributeError\u001b[0m: 'list' object has no attribute 'get_dim'"
     ]
    }
   ],
   "source": [
    "sarracen.render(sdf, target='x')"
   ]
  },
  {
   "cell_type": "code",
   "execution_count": 16,
   "id": "82c24dcd-e6f1-4049-9fd8-d1f003eba0e0",
   "metadata": {},
   "outputs": [
    {
     "name": "stdout",
     "output_type": "stream",
     "text": [
      "[                 x           y          z        vx        vy        vz  \\\n",
      "0       -60.316057   48.229875  -4.115879 -0.066394 -0.070153  0.001042   \n",
      "1        51.264525 -260.824368  12.343371  0.056696  0.008778 -0.000054   \n",
      "2       101.386561  233.909648  -7.905423 -0.051703  0.022003  0.001461   \n",
      "3      -126.345907 -143.339815   2.489583  0.046672 -0.047468 -0.000018   \n",
      "4        -7.137648  -31.047451  -0.601673  0.138576 -0.016837 -0.000867   \n",
      "...            ...         ...        ...       ...       ...       ...   \n",
      "999995   14.271376  -26.480699   1.349016  0.119078  0.080854 -0.000559   \n",
      "999996 -202.792538 -211.001038 -10.279900  0.038608 -0.040551 -0.000348   \n",
      "999997   48.921730   18.460121   2.519935 -0.044888  0.098902  0.001470   \n",
      "999998   72.619452 -198.484980 -15.618855  0.055140  0.027191  0.001153   \n",
      "999999 -124.980371   77.111568 -19.296943 -0.033718 -0.068990 -0.004505   \n",
      "\n",
      "               u      dustfrac        tstop       deltavx       deltavy  \\\n",
      "0       0.000104  3.811599e-06    34.050074 -6.694674e-05 -1.686644e-04   \n",
      "1       0.000057  2.266929e-06   624.945098 -5.254836e-05  6.398321e-04   \n",
      "2       0.000053  6.357597e-04   182.395016 -1.073607e-04 -1.792752e-04   \n",
      "3       0.000043  1.086522e-06   152.904349  6.763971e-05 -2.560823e-04   \n",
      "4       0.000097  5.160400e-07     0.537107 -2.304627e-08 -2.658688e-07   \n",
      "...          ...           ...          ...           ...           ...   \n",
      "999995  0.000086  3.178976e-04     3.785232 -1.558957e-05 -5.863073e-05   \n",
      "999996  0.000042  2.022040e-07  1176.230630  5.675412e-04  1.612042e-04   \n",
      "999997  0.000073  6.539356e-15    11.193916 -5.700686e-05 -3.082204e-05   \n",
      "999998  0.000069  2.024564e-13   283.212592  1.572137e-04  1.708028e-04   \n",
      "999999  0.000080  1.167363e-16   335.816800 -2.172168e-04  6.387273e-04   \n",
      "\n",
      "         deltavz         h     alpha      divv         poten         dt  \n",
      "0       0.000639  1.452280  0.109370 -0.000386 -4.219599e-10   1.646441  \n",
      "1      -0.000792  3.466527  0.172712  0.000183 -1.950182e-10  13.171528  \n",
      "2       0.000457  2.269608  0.109899 -0.000027 -2.100258e-10   3.292882  \n",
      "3      -0.000082  2.067045  0.130868 -0.000096 -2.608576e-10   1.646441  \n",
      "4       0.000036  0.359997  0.123497  0.001601 -5.689437e-10   0.823220  \n",
      "...          ...       ...       ...       ...           ...        ...  \n",
      "999995 -0.000194  0.676407  0.128626  0.000742 -5.407655e-10   1.646441  \n",
      "999996  0.000321  4.057427  0.300073  0.000062 -1.702328e-10   1.646441  \n",
      "999997 -0.000248  0.943584  0.287048  0.000237 -4.703286e-10   3.292882  \n",
      "999998  0.001304  2.746163  0.107430 -0.000070 -2.435118e-10   6.585764  \n",
      "999999  0.002315  2.981620  0.427651  0.000583 -2.915044e-10   1.646441  \n",
      "\n",
      "[974832 rows x 17 columns],           x         y         z         m    h  hsoft  maccreted  \\\n",
      "0 -3.228391 -1.104846 -0.043024  0.607626  1.0    1.0   0.007626   \n",
      "\n",
      "          spinx     spiny     spinz  tlast        vx       vy        vz  \n",
      "0 -7.273580e-07 -0.000004  0.001649    0.0 -0.000603  0.00031 -0.000001  ]\n"
     ]
    }
   ],
   "source": [
    "print(sdf)"
   ]
  },
  {
   "cell_type": "code",
   "execution_count": null,
   "id": "b43ac326-5d61-414f-9726-25142cc2e4d1",
   "metadata": {},
   "outputs": [],
   "source": []
  }
 ],
 "metadata": {
  "kernelspec": {
   "display_name": "Python 3 (ipykernel)",
   "language": "python",
   "name": "python3"
  },
  "language_info": {
   "codemirror_mode": {
    "name": "ipython",
    "version": 3
   },
   "file_extension": ".py",
   "mimetype": "text/x-python",
   "name": "python",
   "nbconvert_exporter": "python",
   "pygments_lexer": "ipython3",
   "version": "3.10.12"
  }
 },
 "nbformat": 4,
 "nbformat_minor": 5
}
